{
 "metadata": {
  "css": [
   ""
  ],
  "name": "",
  "signature": "sha256:399134c067f5963012a24d0c3b4295fea9d189aaac4e1af93cbe2d446c5585ec"
 },
 "nbformat": 3,
 "nbformat_minor": 0,
 "worksheets": [
  {
   "cells": [
    {
     "cell_type": "heading",
     "level": 1,
     "metadata": {},
     "source": [
      "Using runipy with tvb-scripting"
     ]
    },
    {
     "cell_type": "markdown",
     "metadata": {},
     "source": [
      "Individual calls"
     ]
    },
    {
     "cell_type": "code",
     "collapsed": false,
     "input": [
      "from tvb_scripting.notebook_runner import call_runipy\n",
      "import os\n",
      "import numpy as np\n",
      "from itertools import product"
     ],
     "language": "python",
     "metadata": {
      "run_control": {
       "state": "d"
      }
     },
     "outputs": [],
     "prompt_number": 13
    },
    {
     "cell_type": "code",
     "collapsed": false,
     "input": [
      "var_list = [ ['SPEED', 1.0], \n",
      "             ['DT',    2**-5 ]  ]\n",
      "\n",
      "orig_notebook = 'Tutorial_Exploring_A_Model/Tutorial_Exploring_A_Model__tvb_scripting.ipynb'\n",
      "new_notebook = 'Tutorial_Exploring_A_Model/newest_nb_2.ipynb'\n",
      "call_runipy(var_list, orig_notebook, new_notebook)"
     ],
     "language": "python",
     "metadata": {
      "run_control": {
       "state": "n"
      }
     },
     "outputs": []
    },
    {
     "cell_type": "code",
     "collapsed": false,
     "input": [
      "var_list = [ ['SPEED', 1.0], \n",
      "             ['DT',    2**-5 ]  ]\n",
      "\n",
      "orig_notebook = 'Tutorial_Exploring_A_Model/Tutorial_Exploring_A_Model__tvb_scripting.ipynb'\n",
      "new_notebook = 'Tutorial_Exploring_A_Model/newest_nb_2.ipynb'\n",
      "call_runipy(var_list, orig_notebook, new_notebook)"
     ],
     "language": "python",
     "metadata": {
      "run_control": {
       "state": "n"
      }
     },
     "outputs": []
    },
    {
     "cell_type": "markdown",
     "metadata": {},
     "source": [
      "Combinations of parameters"
     ]
    },
    {
     "cell_type": "code",
     "collapsed": false,
     "input": [
      "iterlist = [ ['SPEED',  np.linspace(0,10,15) ],\n",
      "             ['DT',     [2**-5, 2**-6, 2**-7] ] ]"
     ],
     "language": "python",
     "metadata": {
      "run_control": {
       "state": "n"
      }
     },
     "outputs": [],
     "prompt_number": 4
    },
    {
     "cell_type": "code",
     "collapsed": false,
     "input": [
      "product_list =  list(product(*[l[1] for l in iterlist]))\n",
      "newthing = []\n",
      "for p in product_list:\n",
      " tmp = []\n",
      " for pp_it, pp in enumerate(p): \n",
      "  tmp.append([iterlist[pp_it][0], pp]) \n",
      " newthing.append(tmp)\n"
     ],
     "language": "python",
     "metadata": {
      "run_control": {
       "state": "n"
      }
     },
     "outputs": [],
     "prompt_number": 5
    },
    {
     "cell_type": "code",
     "collapsed": false,
     "input": [
      "outdir = '/tmp/tvb_scripting_runipy_notebooks'"
     ],
     "language": "python",
     "metadata": {
      "run_control": {
       "state": "n"
      }
     },
     "outputs": [],
     "prompt_number": 7
    },
    {
     "cell_type": "code",
     "collapsed": false,
     "input": [
      "!mkdir $outdir"
     ],
     "language": "python",
     "metadata": {
      "run_control": {
       "state": "n"
      }
     },
     "outputs": [],
     "prompt_number": 8
    },
    {
     "cell_type": "code",
     "collapsed": false,
     "input": [
      "orig_notebook = '/media/sf_SharedFolder/Code/git_repos_of_mine/tvb-scripting'\\\n",
      "                '/examples/tvb_notebooks/Tutorial_Exploring_A_Model__varyparams.ipynb'"
     ],
     "language": "python",
     "metadata": {
      "run_control": {
       "state": "n"
      }
     },
     "outputs": [],
     "prompt_number": 9
    },
    {
     "cell_type": "code",
     "collapsed": false,
     "input": [
      "new_notebooks_dict = {}\n",
      "for n_it, n in enumerate(newthing[0:10]):\n",
      "  new_notebook = '%s/new_nb_%s.ipynb' %(outdir,n_it)\n",
      "  call_runipy(n,orig_notebook, new_notebook)    \n",
      "  new_notebooks_dict[n_it] = {'varied_params': n,\n",
      "                              'file': new_notebook}\n"
     ],
     "language": "python",
     "metadata": {
      "run_control": {
       "state": "n"
      }
     },
     "outputs": [],
     "prompt_number": 10
    },
    {
     "cell_type": "code",
     "collapsed": false,
     "input": [
      "new_notebooks_dict"
     ],
     "language": "python",
     "metadata": {
      "run_control": {
       "state": "n"
      }
     },
     "outputs": [
      {
       "metadata": {},
       "output_type": "pyout",
       "prompt_number": 14,
       "text": [
        "{0: {'file': '/tmp/tvb_scripting_runipy_notebooks/new_nb_0.ipynb',\n",
        "  'params': [['SPEED', 0.0], ['DT', 0.03125]]},\n",
        " 1: {'file': '/tmp/tvb_scripting_runipy_notebooks/new_nb_1.ipynb',\n",
        "  'params': [['SPEED', 0.0], ['DT', 0.015625]]},\n",
        " 2: {'file': '/tmp/tvb_scripting_runipy_notebooks/new_nb_2.ipynb',\n",
        "  'params': [['SPEED', 0.0], ['DT', 0.0078125]]},\n",
        " 3: {'file': '/tmp/tvb_scripting_runipy_notebooks/new_nb_3.ipynb',\n",
        "  'params': [['SPEED', 0.7142857142857143], ['DT', 0.03125]]},\n",
        " 4: {'file': '/tmp/tvb_scripting_runipy_notebooks/new_nb_4.ipynb',\n",
        "  'params': [['SPEED', 0.7142857142857143], ['DT', 0.015625]]},\n",
        " 5: {'file': '/tmp/tvb_scripting_runipy_notebooks/new_nb_5.ipynb',\n",
        "  'params': [['SPEED', 0.7142857142857143], ['DT', 0.0078125]]},\n",
        " 6: {'file': '/tmp/tvb_scripting_runipy_notebooks/new_nb_6.ipynb',\n",
        "  'params': [['SPEED', 1.4285714285714286], ['DT', 0.03125]]},\n",
        " 7: {'file': '/tmp/tvb_scripting_runipy_notebooks/new_nb_7.ipynb',\n",
        "  'params': [['SPEED', 1.4285714285714286], ['DT', 0.015625]]},\n",
        " 8: {'file': '/tmp/tvb_scripting_runipy_notebooks/new_nb_8.ipynb',\n",
        "  'params': [['SPEED', 1.4285714285714286], ['DT', 0.0078125]]},\n",
        " 9: {'file': '/tmp/tvb_scripting_runipy_notebooks/new_nb_9.ipynb',\n",
        "  'params': [['SPEED', 2.1428571428571428], ['DT', 0.03125]]}}"
       ]
      }
     ],
     "prompt_number": 14
    },
    {
     "cell_type": "markdown",
     "metadata": {},
     "source": [
      "---"
     ]
    }
   ],
   "metadata": {}
  }
 ]
}