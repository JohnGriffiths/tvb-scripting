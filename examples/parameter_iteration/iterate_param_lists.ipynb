{
 "metadata": {
  "css": [
   ""
  ],
  "name": "",
  "signature": "sha256:1050126372eb127066907f3f3f6b1ceaf2bde6257081973fa1d7de58355cd52c"
 },
 "nbformat": 3,
 "nbformat_minor": 0,
 "worksheets": [
  {
   "cells": [
    {
     "cell_type": "heading",
     "level": 1,
     "metadata": {},
     "source": [
      "Iterating through multiple parameter lists"
     ]
    },
    {
     "cell_type": "heading",
     "level": 2,
     "metadata": {},
     "source": [
      "Setup"
     ]
    },
    {
     "cell_type": "code",
     "collapsed": false,
     "input": [
      "import numpy as np\n",
      "from tvb_scripting.utils import create_param_files"
     ],
     "language": "python",
     "metadata": {
      "run_control": {
       "state": "n"
      }
     },
     "outputs": [],
     "prompt_number": 1
    },
    {
     "cell_type": "code",
     "collapsed": false,
     "input": [
      "import os"
     ],
     "language": "python",
     "metadata": {
      "run_control": {
       "state": "n"
      }
     },
     "outputs": [],
     "prompt_number": 2
    },
    {
     "cell_type": "code",
     "collapsed": false,
     "input": [
      "outdir =  '/tmp/tvb_scripting_iterate_multiple_parameter_lists'\n",
      "outpfx = outdir + '/new_set_'\n",
      "res = %system rm -r $outdir\n",
      "print res\n",
      "res = %system mkdir $outdir\n",
      "print res"
     ],
     "language": "python",
     "metadata": {
      "run_control": {
       "state": "d"
      }
     },
     "outputs": [],
     "prompt_number": 3
    },
    {
     "cell_type": "heading",
     "level": 2,
     "metadata": {},
     "source": [
      "Create the parameter sets\n"
     ]
    },
    {
     "cell_type": "code",
     "collapsed": false,
     "input": [
      "default_pset_file = '/media/sf_SharedFolder/Code/git_repos_of_mine/tvb-scripting'\\\n",
      "                    '/examples/tvb_demos/params__region_deterministic_demo.param'"
     ],
     "language": "python",
     "metadata": {
      "run_control": {
       "state": "n"
      }
     },
     "outputs": [],
     "prompt_number": 4
    },
    {
     "cell_type": "code",
     "collapsed": false,
     "input": [
      "#            type          params/type      param                        values\n",
      "iterlist = [ ['connectivity',  'params',      'speed',                   np.linspace(0,10,15)       ],\n",
      "             ['model',        'type',                   ['Generic2dOscillator', 'Kuramoto', 'JansenRit']  ],  ]"
     ],
     "language": "python",
     "metadata": {
      "run_control": {
       "state": "d"
      }
     },
     "outputs": [],
     "prompt_number": 5
    },
    {
     "cell_type": "markdown",
     "metadata": {},
     "source": [
      "won't write any files just yet"
     ]
    },
    {
     "cell_type": "code",
     "collapsed": false,
     "input": [
      "model_files, model_params = create_param_files(default_pset_file, iterlist, outpfx,writefiles=False)"
     ],
     "language": "python",
     "metadata": {
      "run_control": {
       "state": "d"
      }
     },
     "outputs": [],
     "prompt_number": 6
    },
    {
     "cell_type": "code",
     "collapsed": false,
     "input": [
      "model_files.items()[0:5]"
     ],
     "language": "python",
     "metadata": {
      "run_control": {
       "state": "n"
      }
     },
     "outputs": [
      {
       "metadata": {},
       "output_type": "pyout",
       "prompt_number": 7,
       "text": [
        "[('model21____speed_5.0__model_Generic2dOscillator',\n",
        "  '/tmp/tvb_scripting_iterate_multiple_parameter_lists/new_set__model21____speed_5.0__model_Generic2dOscillator.param'),\n",
        " ('model24____speed_5.71428571429__model_Generic2dOscillator',\n",
        "  '/tmp/tvb_scripting_iterate_multiple_parameter_lists/new_set__model24____speed_5.71428571429__model_Generic2dOscillator.param'),\n",
        " ('model23____speed_5.0__model_JansenRit',\n",
        "  '/tmp/tvb_scripting_iterate_multiple_parameter_lists/new_set__model23____speed_5.0__model_JansenRit.param'),\n",
        " ('model25____speed_5.71428571429__model_Kuramoto',\n",
        "  '/tmp/tvb_scripting_iterate_multiple_parameter_lists/new_set__model25____speed_5.71428571429__model_Kuramoto.param'),\n",
        " ('model41____speed_9.28571428571__model_JansenRit',\n",
        "  '/tmp/tvb_scripting_iterate_multiple_parameter_lists/new_set__model41____speed_9.28571428571__model_JansenRit.param')]"
       ]
      }
     ],
     "prompt_number": 7
    },
    {
     "cell_type": "code",
     "collapsed": false,
     "input": [
      "os.path.isfile(model_files.values()[0])"
     ],
     "language": "python",
     "metadata": {
      "run_control": {
       "state": "n"
      }
     },
     "outputs": [
      {
       "metadata": {},
       "output_type": "pyout",
       "prompt_number": 8,
       "text": [
        "False"
       ]
      }
     ],
     "prompt_number": 8
    },
    {
     "cell_type": "code",
     "collapsed": false,
     "input": [
      "model_params.values()[0]['num']"
     ],
     "language": "python",
     "metadata": {
      "run_control": {
       "state": "n"
      }
     },
     "outputs": [
      {
       "metadata": {},
       "output_type": "pyout",
       "prompt_number": 9,
       "text": [
        "21"
       ]
      }
     ],
     "prompt_number": 9
    },
    {
     "cell_type": "code",
     "collapsed": false,
     "input": [
      "model_params.values()[0]['varied_params']"
     ],
     "language": "python",
     "metadata": {
      "run_control": {
       "state": "n"
      }
     },
     "outputs": [
      {
       "metadata": {},
       "output_type": "pyout",
       "prompt_number": 10,
       "text": [
        "(['connectivity', 'params', 'speed', 5.0],\n",
        " ['model', 'type', 'Generic2dOscillator'])"
       ]
      }
     ],
     "prompt_number": 10
    },
    {
     "cell_type": "code",
     "collapsed": false,
     "input": [
      "model_params.values()[0]['params_dict']"
     ],
     "language": "python",
     "metadata": {
      "run_control": {
       "state": "n"
      }
     },
     "outputs": [
      {
       "metadata": {},
       "output_type": "pyout",
       "prompt_number": 11,
       "text": [
        "{'connectivity': {'params': {'load_default': True, 'speed': 10.0},\n",
        "  'type': 'Connectivity'},\n",
        " 'coupling': {'params': {}, 'type': 'Linear'},\n",
        " 'integrator': {'params': {}, 'type': 'HeunDeterministic'},\n",
        " 'model': {'params': {}, 'type': 'JansenRit'},\n",
        " 'monitors': [{'params': {}, 'type': 'Raw'},\n",
        "  {'params': {}, 'type': 'TemporalAverage'}],\n",
        " 'plots': [{'monitor': 'Raw',\n",
        "   'plot_cmds': ['plt.plot(T,D[:,0,:,0])'],\n",
        "   'plot_fname': 'Raw_state_variable_0.png',\n",
        "   'title': 'Raw -- State variable 0'},\n",
        "  {'monitor': 'Raw',\n",
        "   'plot_cmds': ['plt.plot(T,D[:,1,:,0])'],\n",
        "   'plot_fname': 'Raw_state_variable_1.png',\n",
        "   'title': 'Raw -- State variable 1'},\n",
        "  {'monitor': 'TemporalAverage',\n",
        "   'plot_cmds': ['plt.plot(T,D[:,0,:,0])'],\n",
        "   'plot_fname': 'Temporal_average.png',\n",
        "   'title': 'Temporal Average'}],\n",
        " 'sim_params': {'length': 10,\n",
        "  'make_dataframe': True,\n",
        "  'outdir': 'Data',\n",
        "  'outpfx': 'region_deterministic_demo'}}"
       ]
      }
     ],
     "prompt_number": 11
    },
    {
     "cell_type": "heading",
     "level": 2,
     "metadata": {},
     "source": [
      "Run with tvb-scripting"
     ]
    },
    {
     "cell_type": "code",
     "collapsed": false,
     "input": [
      "outdir =  '/tmp/tvb_scripting_iterate_multiple_parameter_lists/tvb_scripting_test'\n",
      "outpfx = outdir + '/new_set_'\n",
      "res = %system rm -r $outdir\n",
      "print res\n",
      "res = %system mkdir $outdir\n",
      "print res   "
     ],
     "language": "python",
     "metadata": {
      "run_control": {
       "state": "d"
      }
     },
     "outputs": [],
     "prompt_number": 12
    },
    {
     "cell_type": "markdown",
     "metadata": {},
     "source": [
      "We'll use a shorter set for this test"
     ]
    },
    {
     "cell_type": "code",
     "collapsed": false,
     "input": [
      "#            type          params/type      param                        values\n",
      "iterlist_short = [ ['model',        'type',                   ['Generic2dOscillator', 'Kuramoto', 'JansenRit']  ]  ]"
     ],
     "language": "python",
     "metadata": {
      "run_control": {
       "state": "n"
      }
     },
     "outputs": [],
     "prompt_number": 13
    },
    {
     "cell_type": "code",
     "collapsed": false,
     "input": [
      "model_files, model_params = create_param_files(default_pset_file, iterlist_short, outpfx,writefiles=True)"
     ],
     "language": "python",
     "metadata": {
      "run_control": {
       "state": "n"
      }
     },
     "outputs": [],
     "prompt_number": 14
    },
    {
     "cell_type": "code",
     "collapsed": false,
     "input": [
      "os.path.isfile(model_files.values()[0])"
     ],
     "language": "python",
     "metadata": {
      "run_control": {
       "state": "n"
      }
     },
     "outputs": [
      {
       "metadata": {},
       "output_type": "pyout",
       "prompt_number": 15,
       "text": [
        "True"
       ]
      }
     ],
     "prompt_number": 15
    },
    {
     "cell_type": "code",
     "collapsed": false,
     "input": [
      "runfile = '/media/sf_SharedFolder/Code/git_repos_of_mine/tvb-scripting/tvb_scripting/run_tvb_sims_main.py'"
     ],
     "language": "python",
     "metadata": {
      "run_control": {
       "state": "n"
      }
     },
     "outputs": [],
     "prompt_number": 16
    },
    {
     "cell_type": "code",
     "collapsed": false,
     "input": [
      "for paramsetname, paramsetfile in model_files.items():\n",
      "  thisdir = '%s/%s' %(outdir,paramsetname)\n",
      "  os.mkdir(thisdir)\n",
      "  os.chdir(thisdir)\n",
      "  res = %system python $runfile $paramsetfile\n",
      "  print res\n",
      "  os.chdir(outdir)"
     ],
     "language": "python",
     "metadata": {
      "run_control": {
       "state": "n"
      }
     },
     "outputs": [],
     "prompt_number": 17
    },
    {
     "cell_type": "code",
     "collapsed": false,
     "input": [
      "import glob"
     ],
     "language": "python",
     "metadata": {
      "run_control": {
       "state": "n"
      }
     },
     "outputs": [],
     "prompt_number": 18
    },
    {
     "cell_type": "code",
     "collapsed": false,
     "input": [
      "glob.glob('%s/*' %outdir)"
     ],
     "language": "python",
     "metadata": {
      "run_control": {
       "state": "n"
      }
     },
     "outputs": [
      {
       "metadata": {},
       "output_type": "pyout",
       "prompt_number": 19,
       "text": [
        "['/tmp/tvb_scripting_iterate_multiple_parameter_lists/tvb_scripting_test/model0____model_Generic2dOscillator',\n",
        " '/tmp/tvb_scripting_iterate_multiple_parameter_lists/tvb_scripting_test/new_set__model1____model_Kuramoto.param',\n",
        " '/tmp/tvb_scripting_iterate_multiple_parameter_lists/tvb_scripting_test/model2____model_JansenRit',\n",
        " '/tmp/tvb_scripting_iterate_multiple_parameter_lists/tvb_scripting_test/new_set__model2____model_JansenRit.param',\n",
        " '/tmp/tvb_scripting_iterate_multiple_parameter_lists/tvb_scripting_test/new_set__model0____model_Generic2dOscillator.param',\n",
        " '/tmp/tvb_scripting_iterate_multiple_parameter_lists/tvb_scripting_test/model1____model_Kuramoto']"
       ]
      }
     ],
     "prompt_number": 19
    },
    {
     "cell_type": "code",
     "collapsed": false,
     "input": [
      "cd /tmp/tvb_scripting_iterate_multiple_parameter_lists/tvb_scripting_test/model0____model_Generic2dOscillator/"
     ],
     "language": "python",
     "metadata": {
      "run_control": {
       "state": "n"
      }
     },
     "outputs": [],
     "prompt_number": 20
    },
    {
     "cell_type": "code",
     "collapsed": false,
     "input": [
      "glob.glob('*')"
     ],
     "language": "python",
     "metadata": {
      "run_control": {
       "state": "n"
      }
     },
     "outputs": [
      {
       "metadata": {},
       "output_type": "pyout",
       "prompt_number": 21,
       "text": [
        "['Data']"
       ]
      }
     ],
     "prompt_number": 21
    },
    {
     "cell_type": "heading",
     "level": 2,
     "metadata": {},
     "source": [
      "Run with tvb-nipype"
     ]
    },
    {
     "cell_type": "code",
     "collapsed": false,
     "input": [
      "outdir =  '/tmp/tvb_scripting_iterate_multiple_parameter_lists/tvb_nipype_test'\n",
      "outpfx = outdir + '/new_set_'\n",
      "res = %system rm -r $outdir\n",
      "print res\n",
      "res = %system mkdir $outdir\n",
      "print res"
     ],
     "language": "python",
     "metadata": {
      "run_control": {
       "state": "n"
      }
     },
     "outputs": [],
     "prompt_number": 22
    },
    {
     "cell_type": "code",
     "collapsed": false,
     "input": [
      "os.chdir(outdir)"
     ],
     "language": "python",
     "metadata": {
      "run_control": {
       "state": "n"
      }
     },
     "outputs": [],
     "prompt_number": 23
    },
    {
     "cell_type": "code",
     "collapsed": false,
     "input": [
      "from tvb_scripting.runner import Sim"
     ],
     "language": "python",
     "metadata": {
      "run_control": {
       "state": "n"
      }
     },
     "outputs": [],
     "prompt_number": 24
    },
    {
     "cell_type": "code",
     "collapsed": false,
     "input": [
      "from tvb_nipype.workflows.sims import create_sim_pipeline"
     ],
     "language": "python",
     "metadata": {
      "run_control": {
       "state": "n"
      }
     },
     "outputs": [],
     "prompt_number": 25
    },
    {
     "cell_type": "code",
     "collapsed": false,
     "input": [
      "sp = create_sim_pipeline(param_dict=model_files, \n",
      "                         wf_base_dir = outdir,\n",
      "                         wf_name='tvb_nipype_sim_pipeline')"
     ],
     "language": "python",
     "metadata": {
      "run_control": {
       "state": "n"
      }
     },
     "outputs": [],
     "prompt_number": 26
    },
    {
     "cell_type": "code",
     "collapsed": false,
     "input": [
      "sp.run()"
     ],
     "language": "python",
     "metadata": {
      "run_control": {
       "state": "n"
      }
     },
     "outputs": [
      {
       "ename": "RuntimeError",
       "evalue": "Workflow did not execute cleanly. Check log for details",
       "output_type": "pyerr",
       "traceback": [
        "\u001b[1;31m---------------------------------------------------------------------------\u001b[0m\n\u001b[1;31mRuntimeError\u001b[0m                              Traceback (most recent call last)",
        "\u001b[1;32m<ipython-input-27-042f66660369>\u001b[0m in \u001b[0;36m<module>\u001b[1;34m()\u001b[0m\n\u001b[1;32m----> 1\u001b[1;33m \u001b[0msp\u001b[0m\u001b[1;33m.\u001b[0m\u001b[0mrun\u001b[0m\u001b[1;33m(\u001b[0m\u001b[1;33m)\u001b[0m\u001b[1;33m\u001b[0m\u001b[0m\n\u001b[0m",
        "\u001b[1;32m/usr/local/lib/python2.7/dist-packages/nipype/pipeline/engine.pyc\u001b[0m in \u001b[0;36mrun\u001b[1;34m(self, plugin, plugin_args, updatehash)\u001b[0m\n\u001b[0;32m    693\u001b[0m         \u001b[1;32mif\u001b[0m \u001b[0mstr2bool\u001b[0m\u001b[1;33m(\u001b[0m\u001b[0mself\u001b[0m\u001b[1;33m.\u001b[0m\u001b[0mconfig\u001b[0m\u001b[1;33m[\u001b[0m\u001b[1;34m'execution'\u001b[0m\u001b[1;33m]\u001b[0m\u001b[1;33m[\u001b[0m\u001b[1;34m'create_report'\u001b[0m\u001b[1;33m]\u001b[0m\u001b[1;33m)\u001b[0m\u001b[1;33m:\u001b[0m\u001b[1;33m\u001b[0m\u001b[0m\n\u001b[0;32m    694\u001b[0m             \u001b[0mself\u001b[0m\u001b[1;33m.\u001b[0m\u001b[0m_write_report_info\u001b[0m\u001b[1;33m(\u001b[0m\u001b[0mself\u001b[0m\u001b[1;33m.\u001b[0m\u001b[0mbase_dir\u001b[0m\u001b[1;33m,\u001b[0m \u001b[0mself\u001b[0m\u001b[1;33m.\u001b[0m\u001b[0mname\u001b[0m\u001b[1;33m,\u001b[0m \u001b[0mexecgraph\u001b[0m\u001b[1;33m)\u001b[0m\u001b[1;33m\u001b[0m\u001b[0m\n\u001b[1;32m--> 695\u001b[1;33m         \u001b[0mrunner\u001b[0m\u001b[1;33m.\u001b[0m\u001b[0mrun\u001b[0m\u001b[1;33m(\u001b[0m\u001b[0mexecgraph\u001b[0m\u001b[1;33m,\u001b[0m \u001b[0mupdatehash\u001b[0m\u001b[1;33m=\u001b[0m\u001b[0mupdatehash\u001b[0m\u001b[1;33m,\u001b[0m \u001b[0mconfig\u001b[0m\u001b[1;33m=\u001b[0m\u001b[0mself\u001b[0m\u001b[1;33m.\u001b[0m\u001b[0mconfig\u001b[0m\u001b[1;33m)\u001b[0m\u001b[1;33m\u001b[0m\u001b[0m\n\u001b[0m\u001b[0;32m    696\u001b[0m         \u001b[0mdatestr\u001b[0m \u001b[1;33m=\u001b[0m \u001b[0mdatetime\u001b[0m\u001b[1;33m.\u001b[0m\u001b[0mutcnow\u001b[0m\u001b[1;33m(\u001b[0m\u001b[1;33m)\u001b[0m\u001b[1;33m.\u001b[0m\u001b[0mstrftime\u001b[0m\u001b[1;33m(\u001b[0m\u001b[1;34m'%Y%m%dT%H%M%S'\u001b[0m\u001b[1;33m)\u001b[0m\u001b[1;33m\u001b[0m\u001b[0m\n\u001b[0;32m    697\u001b[0m         \u001b[1;32mif\u001b[0m \u001b[0mstr2bool\u001b[0m\u001b[1;33m(\u001b[0m\u001b[0mself\u001b[0m\u001b[1;33m.\u001b[0m\u001b[0mconfig\u001b[0m\u001b[1;33m[\u001b[0m\u001b[1;34m'execution'\u001b[0m\u001b[1;33m]\u001b[0m\u001b[1;33m[\u001b[0m\u001b[1;34m'write_provenance'\u001b[0m\u001b[1;33m]\u001b[0m\u001b[1;33m)\u001b[0m\u001b[1;33m:\u001b[0m\u001b[1;33m\u001b[0m\u001b[0m\n",
        "\u001b[1;32m/usr/local/lib/python2.7/dist-packages/nipype/pipeline/plugins/linear.pyc\u001b[0m in \u001b[0;36mrun\u001b[1;34m(self, graph, config, updatehash)\u001b[0m\n\u001b[0;32m     54\u001b[0m                 \u001b[1;32mif\u001b[0m \u001b[0mself\u001b[0m\u001b[1;33m.\u001b[0m\u001b[0m_status_callback\u001b[0m\u001b[1;33m:\u001b[0m\u001b[1;33m\u001b[0m\u001b[0m\n\u001b[0;32m     55\u001b[0m                     \u001b[0mself\u001b[0m\u001b[1;33m.\u001b[0m\u001b[0m_status_callback\u001b[0m\u001b[1;33m(\u001b[0m\u001b[0mnode\u001b[0m\u001b[1;33m,\u001b[0m \u001b[1;34m'exception'\u001b[0m\u001b[1;33m)\u001b[0m\u001b[1;33m\u001b[0m\u001b[0m\n\u001b[1;32m---> 56\u001b[1;33m         \u001b[0mreport_nodes_not_run\u001b[0m\u001b[1;33m(\u001b[0m\u001b[0mnotrun\u001b[0m\u001b[1;33m)\u001b[0m\u001b[1;33m\u001b[0m\u001b[0m\n\u001b[0m\u001b[0;32m     57\u001b[0m \u001b[1;33m\u001b[0m\u001b[0m\n",
        "\u001b[1;32m/usr/local/lib/python2.7/dist-packages/nipype/pipeline/plugins/base.pyc\u001b[0m in \u001b[0;36mreport_nodes_not_run\u001b[1;34m(notrun)\u001b[0m\n\u001b[0;32m     90\u001b[0m                 \u001b[0mlogger\u001b[0m\u001b[1;33m.\u001b[0m\u001b[0mdebug\u001b[0m\u001b[1;33m(\u001b[0m\u001b[0msubnode\u001b[0m\u001b[1;33m.\u001b[0m\u001b[0m_id\u001b[0m\u001b[1;33m)\u001b[0m\u001b[1;33m\u001b[0m\u001b[0m\n\u001b[0;32m     91\u001b[0m         \u001b[0mlogger\u001b[0m\u001b[1;33m.\u001b[0m\u001b[0minfo\u001b[0m\u001b[1;33m(\u001b[0m\u001b[1;34m\"***********************************\"\u001b[0m\u001b[1;33m)\u001b[0m\u001b[1;33m\u001b[0m\u001b[0m\n\u001b[1;32m---> 92\u001b[1;33m         raise RuntimeError(('Workflow did not execute cleanly. '\n\u001b[0m\u001b[0;32m     93\u001b[0m                             'Check log for details'))\n\u001b[0;32m     94\u001b[0m \u001b[1;33m\u001b[0m\u001b[0m\n",
        "\u001b[1;31mRuntimeError\u001b[0m: Workflow did not execute cleanly. Check log for details"
       ]
      }
     ],
     "prompt_number": 27
    },
    {
     "cell_type": "code",
     "collapsed": false,
     "input": [],
     "language": "python",
     "metadata": {
      "run_control": {
       "state": "n"
      }
     },
     "outputs": []
    }
   ],
   "metadata": {}
  }
 ]
}